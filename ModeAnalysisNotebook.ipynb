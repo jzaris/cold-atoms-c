{
 "cells": [
  {
   "cell_type": "code",
   "execution_count": 1,
   "id": "ea965151",
   "metadata": {},
   "outputs": [],
   "source": [
    "#import crystal_mod as cry_mod \n",
    "import mode_analysis_code_original as ma\n",
    "import matplotlib.pyplot as plt \n",
    "import numpy as np"
   ]
  },
  {
   "cell_type": "code",
   "execution_count": 2,
   "id": "33d19515",
   "metadata": {},
   "outputs": [],
   "source": [
    "num_ions=6\n",
    "mass_amu=9.012182\n",
    "vtrap=(0.0, -1750.0, -1970.0)\n",
    "v_wall=0.\n",
    "frot=180000\n",
    "method='bfgs'\n",
    "frot_kHz = 1e-3*frot \n",
    "\n",
    "ma_instance=ma.ModeAnalysis(\n",
    "            N      = num_ions,\n",
    "            ionmass= mass_amu,\n",
    "            Vtrap  = vtrap,\n",
    "            Vwall  = v_wall,\n",
    "            frot   = frot_kHz,\n",
    "            method = method)\n",
    "ma_instance.run()"
   ]
  },
  {
   "cell_type": "code",
   "execution_count": 3,
   "id": "c2e8a64d",
   "metadata": {},
   "outputs": [],
   "source": [
    "pos = ma_instance.uE"
   ]
  },
  {
   "cell_type": "code",
   "execution_count": 4,
   "id": "9c3b6fe1",
   "metadata": {
    "scrolled": true
   },
   "outputs": [
    {
     "data": {
      "image/png": "[encoded data removed]",
      "text/plain": [
       "<matplotlib.figure.Figure at 0x7f6b4b30a828>"
      ]
     },
     "metadata": {
      "needs_background": "light"
     },
     "output_type": "display_data"
    },
    {
     "name": "stdout",
     "output_type": "stream",
     "text": [
      "[  1.43342458e-16   7.15048302e-06  -8.92822054e-06  -2.87643974e-06\n",
      "  -2.64150401e-06   7.29568128e-06]\n",
      "[  7.00644210e-17   5.34780050e-06  -1.23513021e-07   8.45307470e-06\n",
      "  -8.52940995e-06  -5.14795223e-06]\n"
     ]
    }
   ],
   "source": [
    "plt.scatter(pos[0:ma_instance.Nion]*1e6,pos[ma_instance.Nion:]*1e6)\n",
    "plt.show()\n",
    "print(pos[:num_ions])\n",
    "print(pos[num_ions:])"
   ]
  },
  {
   "cell_type": "code",
   "execution_count": 10,
   "id": "3c64d73c",
   "metadata": {},
   "outputs": [
    {
     "name": "stdout",
     "output_type": "stream",
     "text": [
      "[2 1 3]\n",
      "[5 4 6]\n",
      "[ 5.38516481  4.12310563  6.70820393]\n",
      "[1 2 3]\n",
      "[4 5 6]\n",
      "[ 4.12310563  5.38516481  6.70820393]\n",
      "[[ 0 -1 -2]\n",
      " [ 1  0 -1]\n",
      " [ 2  1  0]]\n",
      "[[ 0 -1 -2]\n",
      " [ 1  0 -1]\n",
      " [ 2  1  0]]\n",
      "[[ 0.          1.41421356  2.82842712]\n",
      " [ 1.41421356  0.          1.41421356]\n",
      " [ 2.82842712  1.41421356  0.        ]]\n",
      "[[ 0.          0.35355339  0.04419417]\n",
      " [ 0.35355339  0.          0.35355339]\n",
      " [ 0.04419417  0.35355339  0.        ]]\n",
      "[[-0.80112622  0.          0.        ]\n",
      " [ 0.         -0.64644661  0.        ]\n",
      " [ 0.          0.         -0.80112622]]\n",
      "[[-0.80112622 -0.1767767  -0.02209709]\n",
      " [-0.1767767  -0.64644661 -0.1767767 ]\n",
      " [-0.02209709 -0.1767767  -0.80112622]]\n",
      "[[ 0.  0.  0.]\n",
      " [ 0.  0.  0.]\n",
      " [ 0.  0.  0.]]\n",
      "[[ 1.  0.  0.]\n",
      " [ 0.  1.  0.]\n",
      " [ 0.  0.  1.]]\n",
      "[[2 0 0]\n",
      " [0 2 0]\n",
      " [0 0 2]]\n",
      "[[ 0.          0.          0.          1.          0.          0.        ]\n",
      " [ 0.          0.          0.          0.          1.          0.        ]\n",
      " [ 0.          0.          0.          0.          0.          1.        ]\n",
      " [-0.40056311 -0.08838835 -0.01104854  0.          0.          0.        ]\n",
      " [-0.08838835 -0.3232233  -0.08838835  0.          0.          0.        ]\n",
      " [-0.01104854 -0.08838835 -0.40056311  0.          0.          0.        ]]\n"
     ]
    }
   ],
   "source": [
    "x = np.array([2,1,3])\n",
    "y = np.array([5,4,6])\n",
    "r = np.sqrt(x ** 2 + y ** 2)\n",
    "print(x)\n",
    "print(y)\n",
    "print(r)\n",
    "sort_ind = np.argsort(r)\n",
    "\n",
    "r = r[sort_ind]\n",
    "x = x[sort_ind]\n",
    "y = y[sort_ind]\n",
    "print(x)\n",
    "print(y)\n",
    "print(r)\n",
    "\n",
    "dx = x.reshape((x.size, 1)) - x\n",
    "print(dx)\n",
    "dy = y.reshape((y.size, 1)) - y\n",
    "print(dy)\n",
    "rsep = np.sqrt(dx ** 2 + dy ** 2)\n",
    "print(rsep)\n",
    "\n",
    "with np.errstate(divide='ignore'):\n",
    "    rsep3 = np.where(rsep != 0., rsep ** (-3), 0)\n",
    "print(rsep3)\n",
    "\n",
    "K = np.diag((-1 + 0.5 * np.sum(rsep3, axis=0)))\n",
    "print(K)\n",
    "\n",
    "K -= 0.5 * rsep3\n",
    "print(K)\n",
    "\n",
    "Zn = np.zeros((3, 3))\n",
    "eyeN = np.identity(3)\n",
    "print(Zn)\n",
    "print(eyeN)\n",
    "Mmat = np.diag(np.array([2,2,2]))\n",
    "print(Mmat)\n",
    "Minv = np.linalg.inv(Mmat)\n",
    "firstOrder = np.bmat([[Zn, eyeN], [np.dot(Minv,K), Zn]])\n",
    "print(firstOrder)"
   ]
  },
  {
   "cell_type": "code",
   "execution_count": null,
   "id": "d09f8a9a",
   "metadata": {},
   "outputs": [],
   "source": []
  },
  {
   "cell_type": "code",
   "execution_count": null,
   "id": "04f1059d",
   "metadata": {},
   "outputs": [],
   "source": []
  },
  {
   "cell_type": "code",
   "execution_count": null,
   "id": "4324b0aa",
   "metadata": {},
   "outputs": [],
   "source": []
  }
 ],
 "metadata": {
  "kernelspec": {
   "display_name": "Python 3",
   "language": "python",
   "name": "python3"
  },
  "language_info": {
   "codemirror_mode": {
    "name": "ipython",
    "version": 3
   },
   "file_extension": ".py",
   "mimetype": "text/x-python",
   "name": "python",
   "nbconvert_exporter": "python",
   "pygments_lexer": "ipython3",
   "version": "3.6.9"
  }
 },
 "nbformat": 4,
 "nbformat_minor": 5
}
